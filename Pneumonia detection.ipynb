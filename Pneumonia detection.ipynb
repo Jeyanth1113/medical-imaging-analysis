{
 "cells": [
  {
   "cell_type": "code",
   "execution_count": null,
   "id": "af85eb41",
   "metadata": {},
   "outputs": [],
   "source": [
    "import os\n",
    "import matplotlib.pyplot as plt\n",
    "from PIL import Image"
   ]
  },
  {
   "cell_type": "code",
   "execution_count": null,
   "id": "ec1d97d4",
   "metadata": {},
   "outputs": [],
   "source": [
    "pip install torchvision"
   ]
  },
  {
   "cell_type": "code",
   "execution_count": null,
   "id": "ea2713a8",
   "metadata": {},
   "outputs": [],
   "source": [
    "conda install torchvision -c pytorch"
   ]
  },
  {
   "cell_type": "code",
   "execution_count": null,
   "id": "4a2d6b91",
   "metadata": {},
   "outputs": [],
   "source": [
    "import torchvision\n",
    "print(torchvision.__version__)"
   ]
  },
  {
   "cell_type": "code",
   "execution_count": null,
   "id": "6b10e1fa",
   "metadata": {},
   "outputs": [],
   "source": [
    "import os\n",
    "import matplotlib.pyplot as plt\n",
    "import matplotlib.image as mpimg\n",
    "\n",
    "# Define the paths to your directories\n",
    "train_dir = r'\\Users\\DELL\\Downloads\\archive\\chest_xray\\chest_xray\\train'\n",
    "val_dir = r'\\Users\\DELL\\Downloads\\archive\\chest_xray\\chest_xray\\val'\n",
    "test_dir = r'\\Users\\DELL\\Downloads\\archive\\chest_xray\\chest_xray\\test'\n",
    "\n",
    "# Now you can list the classes\n",
    "train_classes = os.listdir(train_dir)\n",
    "val_classes = os.listdir(val_dir)\n",
    "test_classes = os.listdir(test_dir)"
   ]
  },
  {
   "cell_type": "code",
   "execution_count": null,
   "id": "d4b8d1e6",
   "metadata": {},
   "outputs": [],
   "source": [
    "!pip install scikit-learn"
   ]
  },
  {
   "cell_type": "code",
   "execution_count": null,
   "id": "e17b7fa9",
   "metadata": {},
   "outputs": [],
   "source": [
    "import shutil\n",
    "import random"
   ]
  },
  {
   "cell_type": "code",
   "execution_count": null,
   "id": "1acc7dd3",
   "metadata": {},
   "outputs": [],
   "source": [
    "pip install torch"
   ]
  },
  {
   "cell_type": "code",
   "execution_count": null,
   "id": "3401010a",
   "metadata": {},
   "outputs": [],
   "source": [
    "import torch\n",
    "from torchvision import datasets, transforms\n",
    "from torch.utils.data import random_split, DataLoader"
   ]
  },
  {
   "cell_type": "code",
   "execution_count": null,
   "id": "cd6659ec",
   "metadata": {},
   "outputs": [],
   "source": [
    "import torch\n",
    "import torch.nn as nn\n",
    "from torchvision import models"
   ]
  },
  {
   "cell_type": "code",
   "execution_count": null,
   "id": "9bf5c045",
   "metadata": {},
   "outputs": [],
   "source": [
    "!pip install scikit-learn"
   ]
  },
  {
   "cell_type": "code",
   "execution_count": null,
   "id": "fc573c5d",
   "metadata": {},
   "outputs": [],
   "source": [
    "import torch\n",
    "from sklearn.metrics import f1_score, precision_score, recall_score\n",
    "import torch.nn.functional as F"
   ]
  },
  {
   "cell_type": "code",
   "execution_count": null,
   "id": "3f126687",
   "metadata": {},
   "outputs": [],
   "source": [
    "from sklearn.metrics import confusion_matrix\n",
    "import seaborn as sns\n",
    "import matplotlib.pyplot as plt"
   ]
  },
  {
   "cell_type": "code",
   "execution_count": null,
   "id": "e5ef7035",
   "metadata": {},
   "outputs": [],
   "source": [
    "import numpy as np"
   ]
  },
  {
   "cell_type": "code",
   "execution_count": null,
   "id": "4ac86222",
   "metadata": {},
   "outputs": [],
   "source": [
    "train_dir = '/kaggle/input/chest-xray-pneumonia/'\n",
    "val_dir = '/kaggle/input/chest-xray-pneumonia/'\n",
    "test_dir = '/kaggle/input/chest-xray-pneumonia/'"
   ]
  },
  {
   "cell_type": "code",
   "execution_count": null,
   "id": "5f94a3dd",
   "metadata": {},
   "outputs": [],
   "source": [
    "chest_xray_dir = os.path.join(train_dir, 'chest_xray')"
   ]
  },
  {
   "cell_type": "code",
   "execution_count": null,
   "id": "48ed6e19",
   "metadata": {},
   "outputs": [],
   "source": [
    "train_dir = os.path.join(chest_xray_dir, 'train')\n",
    "val_dir = os.path.join(chest_xray_dir, 'val')\n",
    "test_dir = os.path.join(chest_xray_dir, 'test')"
   ]
  },
  {
   "cell_type": "code",
   "execution_count": null,
   "id": "d1953e2d",
   "metadata": {},
   "outputs": [],
   "source": [
    "def plot_class_distribution(data, title):\n",
    "    classes = list(data.keys())\n",
    "    counts = list(data.values())\n",
    "    \n",
    "    plt.figure(figsize=(6, 4))\n",
    "    plt.bar(classes, counts, color=['blue', 'orange'])\n",
    "    plt.title(title)\n",
    "    plt.xlabel('Classes')\n",
    "    plt.ylabel('Número de Imagens')\n",
    "    plt.show()"
   ]
  },
  {
   "cell_type": "code",
   "execution_count": null,
   "id": "b5c46224",
   "metadata": {},
   "outputs": [],
   "source": [
    "def train_model(model, train_loader, val_loader, criterion, optimizer, num_epochs=10, device='cpu'):\n",
    "    history = {'train_loss': [], 'val_loss': [],\n",
    "               'train_accuracy': [], 'val_accuracy': [],\n",
    "               'train_f1': [], 'val_f1': [],\n",
    "               'train_precision': [], 'val_precision': [],\n",
    "               'train_recall': [], 'val_recall': []}\n",
    "    \n",
    "    for epoch in range(num_epochs):\n",
    "        print(f'Epoch {epoch+1}/{num_epochs}')\n",
    "        print('-' * 20)\n",
    "        \n",
    "        model.train()\n",
    "        running_loss = 0.0\n",
    "        all_preds = []\n",
    "        all_labels = []\n",
    "        \n",
    "        for inputs, labels in train_loader:\n",
    "            inputs, labels = inputs.to(device), labels.to(device)\n",
    "            \n",
    "            optimizer.zero_grad()\n",
    "            \n",
    "            outputs = model(inputs)\n",
    "            loss = criterion(outputs, labels)\n",
    "            \n",
    "            loss.backward()\n",
    "            optimizer.step()\n",
    "            \n",
    "            running_loss += loss.item()\n",
    "            \n",
    "            _, preds = torch.max(outputs, 1)\n",
    "            all_preds.extend(preds.cpu().numpy())\n",
    "            all_labels.extend(labels.cpu().numpy())\n",
    "        \n",
    "        train_loss = running_loss / len(train_loader)\n",
    "        train_f1 = f1_score(all_labels, all_preds, average='weighted')\n",
    "        train_precision = precision_score(all_labels, all_preds, average='weighted')\n",
    "        train_recall = recall_score(all_labels, all_preds, average='weighted')\n",
    "        train_accuracy = (torch.tensor(all_preds) == torch.tensor(all_labels)).sum().item() / len(all_labels)\n",
    "        \n",
    "        history['train_loss'].append(train_loss)\n",
    "        history['train_accuracy'].append(train_accuracy)\n",
    "        history['train_f1'].append(train_f1)\n",
    "        history['train_precision'].append(train_precision)\n",
    "        history['train_recall'].append(train_recall)\n",
    "\n",
    "        model.eval()\n",
    "        val_loss = 0.0\n",
    "        all_val_preds = []\n",
    "        all_val_labels = []\n",
    "        \n",
    "        with torch.no_grad():\n",
    "            for inputs, labels in val_loader:\n",
    "                inputs, labels = inputs.to(device), labels.to(device)\n",
    "                outputs = model(inputs)\n",
    "                loss = criterion(outputs, labels)\n",
    "                val_loss += loss.item()\n",
    "                \n",
    "                _, preds = torch.max(outputs, 1)\n",
    "                all_val_preds.extend(preds.cpu().numpy())\n",
    "                all_val_labels.extend(labels.cpu().numpy())\n",
    "        \n",
    "        val_loss = val_loss / len(val_loader)\n",
    "        val_f1 = f1_score(all_val_labels, all_val_preds, average='weighted')\n",
    "        val_precision = precision_score(all_val_labels, all_val_preds, average='weighted')\n",
    "        val_recall = recall_score(all_val_labels, all_val_preds, average='weighted')\n",
    "        val_accuracy = (torch.tensor(all_val_preds) == torch.tensor(all_val_labels)).sum().item() / len(all_val_labels)\n",
    "        \n",
    "        history['val_loss'].append(val_loss)\n",
    "        history['val_accuracy'].append(val_accuracy)\n",
    "        history['val_f1'].append(val_f1)\n",
    "        history['val_precision'].append(val_precision)\n",
    "        history['val_recall'].append(val_recall)\n",
    "\n",
    "        print(f'Treino: Loss: {train_loss:.4f}, Accuracy: {train_accuracy:.4f}, F1-score: {train_f1:.4f}, Precision: {train_precision:.4f}, Recall: {train_recall:.4f}')\n",
    "        print(f'Validação: Loss: {val_loss:.4f}, Accuracy: {val_accuracy:.4f}, F1-score: {val_f1:.4f}, Precision: {val_precision:.4f}, Recall: {val_recall:.4f}')\n",
    "        print()\n",
    "    \n",
    "    return history"
   ]
  },
  {
   "cell_type": "code",
   "execution_count": null,
   "id": "5845ef3d",
   "metadata": {},
   "outputs": [],
   "source": [
    "def evaluate_model_on_test(model, test_loader, criterion, device='cpu'):\n",
    "    model.eval()  \n",
    "    \n",
    "    test_loss = 0.0\n",
    "    all_test_preds = []\n",
    "    all_test_labels = []\n",
    "    \n",
    "    with torch.no_grad():\n",
    "        for inputs, labels in test_loader:\n",
    "            inputs, labels = inputs.to(device), labels.to(device)\n",
    "            \n",
    "            outputs = model(inputs)\n",
    "            loss = criterion(outputs, labels)\n",
    "            test_loss += loss.item()\n",
    "            \n",
    "            _, preds = torch.max(outputs, 1)\n",
    "            all_test_preds.extend(preds.cpu().numpy())\n",
    "            all_test_labels.extend(labels.cpu().numpy())\n",
    "\n",
    "    test_loss = test_loss / len(test_loader)\n",
    "    test_f1 = f1_score(all_test_labels, all_test_preds, average='weighted')\n",
    "    test_precision = precision_score(all_test_labels, all_test_preds, average='weighted')\n",
    "    test_recall = recall_score(all_test_labels, all_test_preds, average='weighted')\n",
    "    test_accuracy = (torch.tensor(all_test_preds) == torch.tensor(all_test_labels)).sum().item() / len(all_test_labels)\n",
    "\n",
    "    print(f'Teste: Loss: {test_loss:.4f}, Accuracy: {test_accuracy:.4f}, F1-score: {test_f1:.4f}, Precision: {test_precision:.4f}, Recall: {test_recall:.4f}')\n",
    "    \n",
    "    return test_loss, test_accuracy, test_f1, test_precision, test_recall\n"
   ]
  },
  {
   "cell_type": "code",
   "execution_count": null,
   "id": "6debe712",
   "metadata": {},
   "outputs": [],
   "source": [
    "def plot_metrics(history):\n",
    "    epochs = range(1, len(history['train_loss']) + 1)\n",
    "    \n",
    "    # Loss\n",
    "    plt.figure(figsize=(12, 6))\n",
    "    plt.subplot(2, 3, 1)\n",
    "    plt.plot(epochs, history['train_loss'], label='Treino Loss')\n",
    "    plt.plot(epochs, history['val_loss'], label='Validação Loss')\n",
    "    plt.title('Loss')\n",
    "    plt.legend()\n",
    "\n",
    "    # Accuracy\n",
    "    plt.subplot(2, 3, 2)\n",
    "    plt.plot(epochs, history['train_accuracy'], label='Treino Accuracy')\n",
    "    plt.plot(epochs, history['val_accuracy'], label='Validação Accuracy')\n",
    "    plt.title('Acurácia')\n",
    "    plt.legend()\n",
    "\n",
    "    # F1-Score\n",
    "    plt.subplot(2, 3, 3)\n",
    "    plt.plot(epochs, history['train_f1'], label='Treino F1-Score')\n",
    "    plt.plot(epochs, history['val_f1'], label='Validação F1-Score')\n",
    "    plt.title('F1-Score')\n",
    "    plt.legend()\n",
    "\n",
    "    # Precision\n",
    "    plt.subplot(2, 3, 4)\n",
    "    plt.plot(epochs, history['train_precision'], label='Treino Precision')\n",
    "    plt.plot(epochs, history['val_precision'], label='Validação Precision')\n",
    "    plt.title('Precision')\n",
    "    plt.legend()\n",
    "\n",
    "    # Recall\n",
    "    plt.subplot(2, 3, 5)\n",
    "    plt.plot(epochs, history['train_recall'], label='Treino Recall')\n",
    "    plt.plot(epochs, history['val_recall'], label='Validação Recall')\n",
    "    plt.title('Recall')\n",
    "    plt.legend()\n",
    "\n",
    "    plt.tight_layout()\n",
    "    plt.show()"
   ]
  },
  {
   "cell_type": "code",
   "execution_count": null,
   "id": "0e6f1147",
   "metadata": {},
   "outputs": [],
   "source": [
    "def evaluate_and_plot_confusion_matrix(model, test_loader, device='cpu'):\n",
    "    model.eval()  \n",
    "    all_test_preds = []\n",
    "    all_test_labels = []\n",
    "    \n",
    "    with torch.no_grad():\n",
    "        for inputs, labels in test_loader:\n",
    "            inputs, labels = inputs.to(device), labels.to(device)\n",
    "            \n",
    "            outputs = model(inputs)\n",
    "            \n",
    "            _, preds = torch.max(outputs, 1)\n",
    "            all_test_preds.extend(preds.cpu().numpy())\n",
    "            all_test_labels.extend(labels.cpu().numpy())\n",
    "\n",
    "    cm = confusion_matrix(all_test_labels, all_test_preds)\n",
    "    \n",
    "    plt.figure(figsize=(6, 4))\n",
    "    sns.heatmap(cm, annot=True, fmt=\"d\", cmap=\"Blues\", xticklabels=['Normal', 'Pneumonia'], yticklabels=['Normal', 'Pneumonia'])\n",
    "    plt.title('Confusion Matrix - Test Set')\n",
    "    plt.ylabel('True Label')\n",
    "    plt.xlabel('Predicted Label')\n",
    "    plt.show()"
   ]
  },
  {
   "cell_type": "code",
   "execution_count": null,
   "id": "dfff2c17",
   "metadata": {},
   "outputs": [],
   "source": [
    "def plot_confusion_matrix_validation(model, val_loader, device='cpu'):\n",
    "    model.eval()  \n",
    "    all_val_preds = []\n",
    "    all_val_labels = []\n",
    "    \n",
    "    with torch.no_grad():\n",
    "        for inputs, labels in val_loader:\n",
    "            inputs, labels = inputs.to(device), labels.to(device)\n",
    "            \n",
    "            outputs = model(inputs)\n",
    "            \n",
    "            _, preds = torch.max(outputs, 1)\n",
    "            all_val_preds.extend(preds.cpu().numpy())\n",
    "            all_val_labels.extend(labels.cpu().numpy())\n",
    "\n",
    "    cm = confusion_matrix(all_val_labels, all_val_preds)\n",
    "    \n",
    "    plt.figure(figsize=(6, 4))\n",
    "    sns.heatmap(cm, annot=True, fmt=\"d\", cmap=\"Blues\", xticklabels=['Normal', 'Pneumonia'], yticklabels=['Normal', 'Pneumonia'])\n",
    "    plt.title('Confusion Matrix - Validation Set')\n",
    "    plt.ylabel('True Label')\n",
    "    plt.xlabel('Predicted Label')\n",
    "    plt.show()"
   ]
  },
  {
   "cell_type": "code",
   "execution_count": null,
   "id": "303ed1c8",
   "metadata": {},
   "outputs": [],
   "source": [
    "def show_images(dataset_dir, class_name, num_images=5):\n",
    "    class_path = os.path.join(dataset_dir, class_name)\n",
    "    images = os.listdir(class_path)[:num_images]\n",
    "    \n",
    "    plt.figure(figsize=(12, 6))\n",
    "    for i, img_name in enumerate(images):\n",
    "        img_path = os.path.join(class_path, img_name)\n",
    "        img = Image.open(img_path)\n",
    "        plt.subplot(1, num_images, i + 1)\n",
    "        plt.imshow(img, cmap='gray')\n",
    "        plt.title(class_name)\n",
    "        plt.axis('off')\n",
    "    plt.show()\n"
   ]
  },
  {
   "cell_type": "code",
   "execution_count": null,
   "id": "02454b05",
   "metadata": {},
   "outputs": [],
   "source": [
    "def plot_histogram_of_intensities(dataset_dir, class_name, num_images=5):\n",
    "    class_path = os.path.join(dataset_dir, class_name)\n",
    "    images = os.listdir(class_path)[:num_images]\n",
    "    \n",
    "    plt.figure(figsize=(10, 5))\n",
    "    for i, img_name in enumerate(images):\n",
    "        img_path = os.path.join(class_path, img_name)\n",
    "        img = Image.open(img_path).convert('L')  \n",
    "        img_np = np.array(img).flatten()  \n",
    "        \n",
    "        plt.subplot(1, num_images, i + 1)\n",
    "        plt.hist(img_np, bins=50, color='blue', alpha=0.7)\n",
    "        plt.title(f'Histograma - {class_name} {i+1}')\n",
    "        plt.xlabel('Valor de Pixel')\n",
    "        plt.ylabel('Frequência')\n",
    "    plt.tight_layout()\n",
    "    plt.show()"
   ]
  },
  {
   "cell_type": "code",
   "execution_count": null,
   "id": "e005dbd3",
   "metadata": {},
   "outputs": [],
   "source": [
    "\n",
    "train_classes = os.listdir(train_dir)\n",
    "val_classes = os.listdir(val_dir)\n",
    "test_classes = os.listdir(test_dir)"
   ]
  },
  {
   "cell_type": "code",
   "execution_count": null,
   "id": "fe8418ee",
   "metadata": {},
   "outputs": [],
   "source": [
    "print(f'Classes in training: {train_classes}')\n",
    "print(f'Classes em validation: {val_classes}')\n",
    "print(f'Classes em test: {test_classes}')\n"
   ]
  },
  {
   "cell_type": "code",
   "execution_count": null,
   "id": "bcba2b3b",
   "metadata": {},
   "outputs": [],
   "source": [
    "# Filter out non-directory entries\n",
    "train_classes = [cls for cls in os.listdir(train_dir) if os.path.isdir(os.path.join(train_dir, cls))]\n",
    "val_classes = [cls for cls in os.listdir(val_dir) if os.path.isdir(os.path.join(val_dir, cls))]\n",
    "test_classes = [cls for cls in os.listdir(test_dir) if os.path.isdir(os.path.join(test_dir, cls))]\n",
    "\n",
    "# Count the number of files in each class directory\n",
    "train_count = {cls: len(os.listdir(os.path.join(train_dir, cls))) for cls in train_classes}\n",
    "val_count = {cls: len(os.listdir(os.path.join(val_dir, cls))) for cls in val_classes}\n",
    "test_count = {cls: len(os.listdir(os.path.join(test_dir, cls))) for cls in test_classes}\n"
   ]
  },
  {
   "cell_type": "code",
   "execution_count": null,
   "id": "88d926ee",
   "metadata": {},
   "outputs": [],
   "source": [
    "print(f'Training: {train_count}')\n",
    "print(f'Validation: {val_count}')\n",
    "print(f'Test: {test_count}')\n"
   ]
  },
  {
   "cell_type": "code",
   "execution_count": null,
   "id": "ae48e2a2",
   "metadata": {},
   "outputs": [],
   "source": [
    "train_count = {'NORMAL': 1341, 'PNEUMONIA': 3875}  # Exemplo de contagem real\n",
    "val_count = {'NORMAL': 8, 'PNEUMONIA': 8}  # Exemplo de contagem real\n",
    "test_count = {'NORMAL': 234, 'PNEUMONIA': 390}  # Exemplo de contagem real\n"
   ]
  },
  {
   "cell_type": "code",
   "execution_count": null,
   "id": "e3684a07",
   "metadata": {},
   "outputs": [],
   "source": [
    "# Define the function to plot class distribution\n",
    "def plot_class_distribution(class_count, title):\n",
    "    classes = list(class_count.keys())\n",
    "    counts = list(class_count.values())\n",
    "\n",
    "    plt.figure(figsize=(10, 5))\n",
    "    plt.bar(classes, counts, color='skyblue')\n",
    "    plt.title(title)\n",
    "    plt.xlabel('Classes')\n",
    "    plt.ylabel('Number of Samples')\n",
    "    plt.xticks(rotation=45)\n",
    "    plt.tight_layout()\n",
    "    plt.show()"
   ]
  },
  {
   "cell_type": "code",
   "execution_count": null,
   "id": "decb7e19",
   "metadata": {
    "scrolled": true
   },
   "outputs": [],
   "source": [
    "plot_class_distribution(train_count, 'Classes Distribution - Training')\n",
    "plot_class_distribution(val_count, 'Classes Distribution - Validation')\n",
    "plot_class_distribution(test_count, 'Classes Distribution - Test')\n"
   ]
  },
  {
   "cell_type": "code",
   "execution_count": null,
   "id": "748055ea",
   "metadata": {},
   "outputs": [],
   "source": [
    "def show_images(directory, class_name, num_images=5):\n",
    "    class_dir = os.path.join(directory, class_name)\n",
    "    images = [img for img in os.listdir(class_dir) if img.lower().endswith(('.png', '.jpg', '.jpeg'))][:num_images]  # Filter valid image files\n",
    "\n",
    "    plt.figure(figsize=(15, 5))\n",
    "    for i, image_name in enumerate(images):\n",
    "        img_path = os.path.join(class_dir, image_name)\n",
    "        img = mpimg.imread(img_path)\n",
    "        plt.subplot(1, num_images, i + 1)\n",
    "        plt.imshow(img)\n",
    "        plt.axis('off')  # Hide axes\n",
    "        plt.title(image_name)  # Optionally show image name\n",
    "    plt.show()"
   ]
  },
  {
   "cell_type": "code",
   "execution_count": null,
   "id": "15b6156e",
   "metadata": {},
   "outputs": [],
   "source": [
    "show_images(train_dir, 'NORMAL', num_images=5)\n",
    "show_images(train_dir, 'PNEUMONIA', num_images=5)"
   ]
  },
  {
   "cell_type": "code",
   "execution_count": null,
   "id": "1e42bd69",
   "metadata": {},
   "outputs": [],
   "source": [
    "def plot_histogram_of_intensities(directory, class_name, num_images=3):\n",
    "    class_dir = os.path.join(directory, class_name)\n",
    "    images = [img for img in os.listdir(class_dir) if img.lower().endswith(('.png', '.jpg', '.jpeg'))][:num_images]  # Filter valid image files\n",
    "\n",
    "    plt.figure(figsize=(15, 5))\n",
    "    for i, image_name in enumerate(images):\n",
    "        img_path = os.path.join(class_dir, image_name)\n",
    "        img = mpimg.imread(img_path)\n",
    "\n",
    "        # Flatten the image array and plot histogram\n",
    "        plt.subplot(1, num_images, i + 1)\n",
    "        plt.hist(img.ravel(), bins=256, color='gray', alpha=0.7)\n",
    "        plt.title(f'Histogram for {image_name}')\n",
    "        plt.xlim([0, 255])  # Limiting x-axis to valid pixel intensity range\n",
    "        plt.xlabel('Pixel Intensity')\n",
    "        plt.ylabel('Frequency')\n",
    "    plt.tight_layout()\n",
    "    plt.show()"
   ]
  },
  {
   "cell_type": "code",
   "execution_count": null,
   "id": "6cde1e53",
   "metadata": {},
   "outputs": [],
   "source": [
    "plot_histogram_of_intensities(train_dir, 'NORMAL', num_images=3)\n",
    "plot_histogram_of_intensities(train_dir, 'PNEUMONIA', num_images=3)"
   ]
  },
  {
   "cell_type": "code",
   "execution_count": null,
   "id": "02e394e9",
   "metadata": {},
   "outputs": [],
   "source": [
    "from torchvision import transforms\n",
    "\n",
    "# Define the data transformations\n",
    "data_transforms = transforms.Compose([\n",
    "    transforms.Resize((224, 224)),  \n",
    "    transforms.ToTensor(),  \n",
    "    transforms.Normalize([0.485, 0.456, 0.406], [0.229, 0.224, 0.225]) \n",
    "])"
   ]
  },
  {
   "cell_type": "code",
   "execution_count": null,
   "id": "dcbd34f4",
   "metadata": {},
   "outputs": [],
   "source": [
    "data_transforms = transforms.Compose([\n",
    "    transforms.Resize((224, 224)),  \n",
    "    transforms.ToTensor(),  \n",
    "    transforms.Normalize([0.485, 0.456, 0.406], [0.229, 0.224, 0.225]) \n",
    "])"
   ]
  },
  {
   "cell_type": "code",
   "execution_count": null,
   "id": "2bd0f7b7",
   "metadata": {},
   "outputs": [],
   "source": [
    "train_dataset = datasets.ImageFolder(train_dir, transform=data_transforms)"
   ]
  },
  {
   "cell_type": "code",
   "execution_count": null,
   "id": "c5605a9e",
   "metadata": {},
   "outputs": [],
   "source": [
    "train_size = int(0.8 * len(train_dataset))\n",
    "val_size = len(train_dataset) - train_size\n"
   ]
  },
  {
   "cell_type": "code",
   "execution_count": null,
   "id": "34477ca5",
   "metadata": {},
   "outputs": [],
   "source": [
    "train_subset, val_subset = random_split(train_dataset, [train_size, val_size])"
   ]
  },
  {
   "cell_type": "code",
   "execution_count": null,
   "id": "7cb77991",
   "metadata": {},
   "outputs": [],
   "source": [
    "train_loader = DataLoader(train_subset, batch_size=32, shuffle=True)\n",
    "val_loader = DataLoader(val_subset, batch_size=32, shuffle=True)"
   ]
  },
  {
   "cell_type": "code",
   "execution_count": null,
   "id": "a0a681b2",
   "metadata": {},
   "outputs": [],
   "source": [
    "test_dataset = datasets.ImageFolder(test_dir, transform=data_transforms)\n",
    "test_loader = DataLoader(test_dataset, batch_size=32, shuffle=False)"
   ]
  },
  {
   "cell_type": "code",
   "execution_count": null,
   "id": "200cc518",
   "metadata": {},
   "outputs": [],
   "source": [
    "print(f'Training Size: {len(train_subset)}')\n",
    "print(f'Validation Size: {len(val_subset)}')\n",
    "print(f'Test Size: {len(test_dataset)}')\n"
   ]
  },
  {
   "cell_type": "code",
   "execution_count": null,
   "id": "5f8814bd",
   "metadata": {},
   "outputs": [],
   "source": [
    "class CustomDenseNet(nn.Module):\n",
    "    def __init__(self, num_classes=2):\n",
    "        super(CustomDenseNet, self).__init__()\n",
    "        \n",
    "        self.densenet = models.densenet121(pretrained=True)\n",
    "        \n",
    "        for param in self.densenet.parameters():\n",
    "            param.requires_grad = False\n",
    "        \n",
    "        num_ftrs = self.densenet.classifier.in_features\n",
    "        \n",
    "        self.classifier = nn.Sequential(\n",
    "            nn.Linear(num_ftrs, 512),       \n",
    "            nn.ReLU(),                       \n",
    "            nn.Dropout(0.3),                 \n",
    "            nn.Linear(512, 256),             \n",
    "            nn.ReLU(),                       \n",
    "            nn.BatchNorm1d(256),            \n",
    "            nn.Linear(256, num_classes)      \n",
    "        )\n",
    "    \n",
    "    def forward(self, x):\n",
    "        x = self.densenet.features(x)\n",
    "        x = nn.functional.relu(x, inplace=True)\n",
    "        x = nn.functional.adaptive_avg_pool2d(x, (1, 1))\n",
    "        x = torch.flatten(x, 1)\n",
    "        \n",
    "        x = self.classifier(x)\n",
    "        return x"
   ]
  },
  {
   "cell_type": "code",
   "execution_count": null,
   "id": "16f5955e",
   "metadata": {},
   "outputs": [],
   "source": [
    "num_classes = 2"
   ]
  },
  {
   "cell_type": "code",
   "execution_count": null,
   "id": "9be0cf27",
   "metadata": {},
   "outputs": [],
   "source": [
    "model = CustomDenseNet(num_classes)"
   ]
  },
  {
   "cell_type": "code",
   "execution_count": null,
   "id": "4bf04acd",
   "metadata": {},
   "outputs": [],
   "source": [
    "print(model)"
   ]
  },
  {
   "cell_type": "code",
   "execution_count": null,
   "id": "4ce98e98",
   "metadata": {},
   "outputs": [],
   "source": [
    "device = torch.device(\"cuda:0\" if torch.cuda.is_available() else \"cpu\")\n",
    "model = model.to(device)"
   ]
  },
  {
   "cell_type": "code",
   "execution_count": null,
   "id": "74bff815",
   "metadata": {},
   "outputs": [],
   "source": [
    "criterion = nn.CrossEntropyLoss()"
   ]
  },
  {
   "cell_type": "code",
   "execution_count": null,
   "id": "0b215e93",
   "metadata": {},
   "outputs": [],
   "source": [
    "optimizer = torch.optim.Adam(model.classifier.parameters(), lr=0.001)"
   ]
  },
  {
   "cell_type": "code",
   "execution_count": null,
   "id": "7da02206",
   "metadata": {},
   "outputs": [],
   "source": [
    "num_epochs = 10"
   ]
  },
  {
   "cell_type": "code",
   "execution_count": null,
   "id": "4466cdd9",
   "metadata": {},
   "outputs": [],
   "source": [
    "history = train_model(model, train_loader, val_loader, criterion, optimizer, num_epochs, device)"
   ]
  },
  {
   "cell_type": "code",
   "execution_count": null,
   "id": "6f1ae13d",
   "metadata": {},
   "outputs": [],
   "source": [
    "plot_metrics(history)"
   ]
  },
  {
   "cell_type": "code",
   "execution_count": null,
   "id": "eae7673d",
   "metadata": {},
   "outputs": [],
   "source": [
    "plot_confusion_matrix_validation(model, val_loader, device)"
   ]
  },
  {
   "cell_type": "code",
   "execution_count": null,
   "id": "fbfb4a12",
   "metadata": {},
   "outputs": [],
   "source": [
    "test_loss, test_accuracy, test_f1, test_precision, test_recall = evaluate_model_on_test(model, test_loader, criterion, device)\n"
   ]
  },
  {
   "cell_type": "code",
   "execution_count": null,
   "id": "cb3f5fc9",
   "metadata": {},
   "outputs": [],
   "source": [
    "evaluate_and_plot_confusion_matrix(model, test_loader, device)"
   ]
  },
  {
   "cell_type": "code",
   "execution_count": null,
   "id": "9de581ec",
   "metadata": {},
   "outputs": [],
   "source": []
  }
 ],
 "metadata": {
  "kernelspec": {
   "display_name": "Python 3 (ipykernel)",
   "language": "python",
   "name": "python3"
  },
  "language_info": {
   "codemirror_mode": {
    "name": "ipython",
    "version": 3
   },
   "file_extension": ".py",
   "mimetype": "text/x-python",
   "name": "python",
   "nbconvert_exporter": "python",
   "pygments_lexer": "ipython3",
   "version": "3.11.5"
  }
 },
 "nbformat": 4,
 "nbformat_minor": 5
}
